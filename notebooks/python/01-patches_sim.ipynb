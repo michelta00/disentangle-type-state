{
 "cells": [
  {
   "cell_type": "markdown",
   "id": "0428ee1a",
   "metadata": {},
   "source": [
    "# Patches with Simulation Data"
   ]
  },
  {
   "cell_type": "markdown",
   "id": "2a43fb06",
   "metadata": {},
   "source": [
    "## Import Packages"
   ]
  },
  {
   "cell_type": "code",
   "execution_count": null,
   "id": "3db48c4d",
   "metadata": {},
   "outputs": [],
   "source": [
    "from ladder.data import get_data\n",
    "from ladder.scripts import InterpretableWorkflow\n",
    "import umap, torch, pyro, os\n",
    "import torch.optim as opt\n",
    "\n",
    "import numpy as np \n",
    "import pandas as pd\n",
    "import seaborn as sns\n",
    "import matplotlib.pyplot as plt\n",
    "\n",
    "import anndata as ad\n",
    "import scanpy as sc"
   ]
  },
  {
   "cell_type": "markdown",
   "id": "64918814",
   "metadata": {},
   "source": [
    "## Load and Prepare Data"
   ]
  },
  {
   "cell_type": "code",
   "execution_count": null,
   "id": "d101a984",
   "metadata": {},
   "outputs": [],
   "source": [
    "adata = sc.read_h5ad(\"../../data/sim/01-pro/t100,s80,b0.h5ad\")\n",
    "adata.X = adata.layers[\"counts\"] # model input should be raw counts (stated in docs)\n",
    "adata"
   ]
  },
  {
   "cell_type": "markdown",
   "id": "81f635fe",
   "metadata": {},
   "source": [
    "## Run Patches in Interpretable Workflow - Condition Only"
   ]
  },
  {
   "cell_type": "code",
   "execution_count": null,
   "id": "a96de02f",
   "metadata": {},
   "outputs": [],
   "source": [
    "# Initialize workflow object\n",
    "workflow = InterpretableWorkflow(adata, verbose=True, random_seed=42)\n",
    "\n",
    "# Define the condition classes & batch key to prepare the data\n",
    "factors = [\"group_id\"]\n",
    "workflow.prep_model(factors, batch_key=\"sample_id\", model_type='Patches', model_args={'ld_normalize' : True})\n",
    "\n",
    "workflow.run_model(max_epochs=100, convergence_threshold=1e-5, convergence_window=1000) # Lower the convergence threshold if you need a more accurate model, will increase training time\n",
    "workflow.save_model(\"../../data/sim/02-patches/t100,s80,b0-con\")"
   ]
  },
  {
   "cell_type": "code",
   "execution_count": null,
   "id": "54553cf2",
   "metadata": {},
   "outputs": [],
   "source": [
    "workflow.plot_loss()"
   ]
  },
  {
   "cell_type": "code",
   "execution_count": null,
   "id": "5d4ba940",
   "metadata": {},
   "outputs": [],
   "source": [
    "workflow.write_embeddings()\n",
    "workflow.anndata.obsm"
   ]
  },
  {
   "cell_type": "code",
   "execution_count": null,
   "id": "5ffa7458",
   "metadata": {},
   "outputs": [],
   "source": [
    "workflow.evaluate_reconstruction()"
   ]
  },
  {
   "cell_type": "code",
   "execution_count": null,
   "id": "2c558e58",
   "metadata": {},
   "outputs": [],
   "source": [
    "workflow.get_conditional_loadings()\n",
    "workflow.get_common_loadings()\n",
    "workflow.anndata.var"
   ]
  },
  {
   "cell_type": "code",
   "execution_count": null,
   "id": "60411cc7",
   "metadata": {},
   "outputs": [],
   "source": [
    "for gene in (workflow.anndata.var[\"Condition2_score_Patches\"]).sort_values(ascending=False)[:200].index:\n",
    "    print(gene, workflow.anndata.var.loc[gene, [\"Condition2_score_Patches\"]].values[0])"
   ]
  },
  {
   "cell_type": "code",
   "execution_count": null,
   "id": "2df32138",
   "metadata": {},
   "outputs": [],
   "source": [
    "workflow.anndata.var.loc[:, [\"Condition1_score_Patches\", \"Condition2_score_Patches\", \"common_score_Patches\"]].to_csv(\n",
    "    \"../../data/sim/02-patches/t100,s80,b0-con_loadings.csv\"\n",
    ")"
   ]
  },
  {
   "cell_type": "markdown",
   "id": "028da9b9",
   "metadata": {},
   "source": [
    "## Run Patches in Interpretable Workflow - Condition + Cluster"
   ]
  },
  {
   "cell_type": "code",
   "execution_count": null,
   "id": "561b607b",
   "metadata": {},
   "outputs": [],
   "source": [
    "# Initialize workflow object\n",
    "workflow = InterpretableWorkflow(adata, verbose=True, random_seed=42)\n",
    "\n",
    "# Define the condition classes & batch key to prepare the data\n",
    "factors = [\"group_id\", \"cluster_id\"]\n",
    "workflow.prep_model(factors, batch_key=\"sample_id\", model_type='Patches', model_args={'ld_normalize' : True})\n",
    "\n",
    "workflow.run_model(max_epochs=100, convergence_threshold=1e-5, convergence_window=1000) # Lower the convergence threshold if you need a more accurate model, will increase training time\n",
    "workflow.save_model(\"../../data/sim/02-patches/t100,s80,b0-con-clu\")"
   ]
  },
  {
   "cell_type": "code",
   "execution_count": null,
   "id": "8b2a2d7e",
   "metadata": {},
   "outputs": [],
   "source": [
    "workflow.plot_loss()"
   ]
  },
  {
   "cell_type": "code",
   "execution_count": null,
   "id": "ea037579",
   "metadata": {},
   "outputs": [],
   "source": [
    "workflow.write_embeddings()\n",
    "workflow.anndata.obsm"
   ]
  },
  {
   "cell_type": "code",
   "execution_count": null,
   "id": "ea33c0ee",
   "metadata": {},
   "outputs": [],
   "source": [
    "workflow.evaluate_reconstruction()"
   ]
  },
  {
   "cell_type": "code",
   "execution_count": null,
   "id": "6142828d",
   "metadata": {},
   "outputs": [],
   "source": [
    "workflow.get_conditional_loadings()\n",
    "workflow.get_common_loadings()\n",
    "workflow.anndata.var"
   ]
  },
  {
   "cell_type": "code",
   "execution_count": null,
   "id": "beb749e3",
   "metadata": {},
   "outputs": [],
   "source": [
    "for gene in (workflow.anndata.var[\"Condition2_score_Patches\"]).sort_values(ascending=False)[:200].index:\n",
    "    print(gene, workflow.anndata.var.loc[gene, [\"Condition2_score_Patches\"]].values[0])"
   ]
  },
  {
   "cell_type": "code",
   "execution_count": null,
   "id": "768d7076",
   "metadata": {},
   "outputs": [],
   "source": [
    "workflow.anndata.var.loc[:, [\n",
    "    \"Condition1_score_Patches\", \n",
    "    \"Condition2_score_Patches\", \n",
    "    \"common_score_Patches\", \n",
    "    \"Group1_score_Patches\", \n",
    "    \"Group2_score_Patches\", \n",
    "    \"Group3_score_Patches\"\n",
    "    ]].to_csv(\n",
    "    \"../../data/sim/02-patches/t100,s80,b0-con-clu_loadings.csv\"\n",
    ")"
   ]
  },
  {
   "cell_type": "code",
   "execution_count": null,
   "id": "090d1260",
   "metadata": {},
   "outputs": [],
   "source": []
  }
 ],
 "metadata": {
  "kernelspec": {
   "display_name": "type-state",
   "language": "python",
   "name": "python3"
  },
  "language_info": {
   "codemirror_mode": {
    "name": "ipython",
    "version": 3
   },
   "file_extension": ".py",
   "mimetype": "text/x-python",
   "name": "python",
   "nbconvert_exporter": "python",
   "pygments_lexer": "ipython3",
   "version": "3.11.3"
  }
 },
 "nbformat": 4,
 "nbformat_minor": 5
}
