{
 "cells": [
  {
   "cell_type": "markdown",
   "id": "ee8050f4",
   "metadata": {},
   "source": [
    "# Cell Type and State Simulation Data"
   ]
  },
  {
   "cell_type": "markdown",
   "id": "11d1d961",
   "metadata": {},
   "source": [
    "## Import Packages"
   ]
  },
  {
   "cell_type": "code",
   "execution_count": null,
   "id": "4c5157c0",
   "metadata": {},
   "outputs": [],
   "source": [
    "import scanpy as sc\n",
    "import pandas as pd"
   ]
  },
  {
   "cell_type": "markdown",
   "id": "bb203f7c",
   "metadata": {},
   "source": [
    "## Load Data"
   ]
  },
  {
   "cell_type": "code",
   "execution_count": null,
   "id": "88aa273f",
   "metadata": {},
   "outputs": [],
   "source": [
    "# adata file\n",
    "adata = sc.read_h5ad(\"../../data/sim/01-pro/t100,s80,b0.h5ad\")\n",
    "adata.X = adata.layers[\"logcounts\"]\n",
    "adata"
   ]
  },
  {
   "cell_type": "code",
   "execution_count": null,
   "id": "03468349",
   "metadata": {},
   "outputs": [],
   "source": [
    "# cell metadata file\n",
    "cell_metadata = pd.read_csv(\"../../data/sim/01-pro/t100,s80,b0-cd.csv\", index_col=0)\n",
    "cell_metadata"
   ]
  },
  {
   "cell_type": "code",
   "execution_count": null,
   "id": "5a4cfecb",
   "metadata": {},
   "outputs": [],
   "source": [
    "# gene metadata file\n",
    "gene_metadata = pd.read_csv(\"../../data/sim/01-pro/t100,s80,b0-rd.csv\", index_col=0)\n",
    "gene_metadata"
   ]
  },
  {
   "cell_type": "code",
   "execution_count": null,
   "id": "6b8a105b",
   "metadata": {},
   "outputs": [],
   "source": []
  }
 ],
 "metadata": {
  "kernelspec": {
   "display_name": "type-state",
   "language": "python",
   "name": "python3"
  },
  "language_info": {
   "codemirror_mode": {
    "name": "ipython",
    "version": 3
   },
   "file_extension": ".py",
   "mimetype": "text/x-python",
   "name": "python",
   "nbconvert_exporter": "python",
   "pygments_lexer": "ipython3",
   "version": "3.11.3"
  }
 },
 "nbformat": 4,
 "nbformat_minor": 5
}
